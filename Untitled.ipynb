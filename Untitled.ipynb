{
 "cells": [
  {
   "cell_type": "markdown",
   "id": "1a87e4ba",
   "metadata": {},
   "source": [
    "Какие матричные элементы нам нужны?\n",
    "\n",
    "1. S - матричные перекрывания\n",
    "2. Te - матричные элементы оператора кинетической энергии\n",
    "3. Ven - матричные элементы оператора электрон-ядерного взаимодействия\n",
    "4. Vee - матричные элементы оператора Vee\n",
    "\n",
    "Текущие базисные функции имеют следующий вид:\n",
    "\n",
    "$\\left(\\sum_a c_a (x-x_0)^{nx_a} (y-y_0)^{ny_a} (z-z_0)^{nz_a}\\right) (\\sum_r c_r exp (-a_r (r-r_0)^2))$"
   ]
  },
  {
   "cell_type": "code",
   "execution_count": null,
   "id": "1db48454",
   "metadata": {},
   "outputs": [],
   "source": []
  },
  {
   "cell_type": "code",
   "execution_count": null,
   "id": "df56526e",
   "metadata": {},
   "outputs": [],
   "source": []
  }
 ],
 "metadata": {
  "kernelspec": {
   "display_name": "Python 3",
   "language": "python",
   "name": "python3"
  },
  "language_info": {
   "codemirror_mode": {
    "name": "ipython",
    "version": 3
   },
   "file_extension": ".py",
   "mimetype": "text/x-python",
   "name": "python",
   "nbconvert_exporter": "python",
   "pygments_lexer": "ipython3",
   "version": "3.7.1"
  }
 },
 "nbformat": 4,
 "nbformat_minor": 5
}
